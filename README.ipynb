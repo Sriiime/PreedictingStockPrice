# PredictingStockPrice
Contains Historicl Price data(2006-2021) of a particular stock, contains opening value,closing value,high,low value with respect to dates.

Dataset has been downloaded from Kaggle

Candlestick chart has been plotted

Divided the dataset into train and test set

GradientBoosting model has been deployed and R2 score is 0.999 giving a great accuracy

All the work has been done in Untitled13

